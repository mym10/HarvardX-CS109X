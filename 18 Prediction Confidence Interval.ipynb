{
 "cells": [
  {
   "cell_type": "code",
   "execution_count": 1,
   "id": "98b66f8a",
   "metadata": {},
   "outputs": [],
   "source": [
    "import numpy as np\n",
    "import pandas as pd\n",
    "import matplotlib.pyplot as plt\n",
    "from sklearn.linear_model import LinearRegression"
   ]
  },
  {
   "cell_type": "code",
   "execution_count": 2,
   "id": "71950507",
   "metadata": {},
   "outputs": [
    {
     "data": {
      "text/html": [
       "<div>\n",
       "<style scoped>\n",
       "    .dataframe tbody tr th:only-of-type {\n",
       "        vertical-align: middle;\n",
       "    }\n",
       "\n",
       "    .dataframe tbody tr th {\n",
       "        vertical-align: top;\n",
       "    }\n",
       "\n",
       "    .dataframe thead th {\n",
       "        text-align: right;\n",
       "    }\n",
       "</style>\n",
       "<table border=\"1\" class=\"dataframe\">\n",
       "  <thead>\n",
       "    <tr style=\"text-align: right;\">\n",
       "      <th></th>\n",
       "      <th>TV</th>\n",
       "      <th>Radio</th>\n",
       "      <th>Newspaper</th>\n",
       "      <th>Sales</th>\n",
       "    </tr>\n",
       "  </thead>\n",
       "  <tbody>\n",
       "    <tr>\n",
       "      <th>0</th>\n",
       "      <td>230.1</td>\n",
       "      <td>37.8</td>\n",
       "      <td>69.2</td>\n",
       "      <td>22.1</td>\n",
       "    </tr>\n",
       "    <tr>\n",
       "      <th>1</th>\n",
       "      <td>44.5</td>\n",
       "      <td>39.3</td>\n",
       "      <td>45.1</td>\n",
       "      <td>10.4</td>\n",
       "    </tr>\n",
       "    <tr>\n",
       "      <th>2</th>\n",
       "      <td>17.2</td>\n",
       "      <td>45.9</td>\n",
       "      <td>69.3</td>\n",
       "      <td>9.3</td>\n",
       "    </tr>\n",
       "    <tr>\n",
       "      <th>3</th>\n",
       "      <td>151.5</td>\n",
       "      <td>41.3</td>\n",
       "      <td>58.5</td>\n",
       "      <td>18.5</td>\n",
       "    </tr>\n",
       "    <tr>\n",
       "      <th>4</th>\n",
       "      <td>180.8</td>\n",
       "      <td>10.8</td>\n",
       "      <td>58.4</td>\n",
       "      <td>12.9</td>\n",
       "    </tr>\n",
       "  </tbody>\n",
       "</table>\n",
       "</div>"
      ],
      "text/plain": [
       "      TV  Radio  Newspaper  Sales\n",
       "0  230.1   37.8       69.2   22.1\n",
       "1   44.5   39.3       45.1   10.4\n",
       "2   17.2   45.9       69.3    9.3\n",
       "3  151.5   41.3       58.5   18.5\n",
       "4  180.8   10.8       58.4   12.9"
      ]
     },
     "execution_count": 2,
     "metadata": {},
     "output_type": "execute_result"
    }
   ],
   "source": [
    "df = pd.read_csv('Advertising.csv').drop('Unnamed: 0', axis =1)\n",
    "df.head()"
   ]
  },
  {
   "cell_type": "code",
   "execution_count": 3,
   "id": "29130d02",
   "metadata": {},
   "outputs": [],
   "source": [
    "numboots = 1000\n",
    "#Budget = [[1000]]\n",
    "Budget = pd.DataFrame({'TV': [1000]}) \n",
    "\n",
    "#sales prediction for each bootstrap\n",
    "sales_dist = []"
   ]
  },
  {
   "cell_type": "code",
   "execution_count": 4,
   "id": "81650aee",
   "metadata": {},
   "outputs": [],
   "source": [
    "def error_pred(y,y_p):\n",
    "    n = len(y)\n",
    "    return np.sqrt(np.sum((y-y_p)**2/(n-2)))"
   ]
  },
  {
   "cell_type": "code",
   "execution_count": 5,
   "id": "06dd5cba",
   "metadata": {
    "scrolled": true
   },
   "outputs": [],
   "source": [
    "for i in range(numboots):\n",
    "    df_new = df.sample(frac = 1, replace = True)\n",
    "    x = df_new[['TV']]\n",
    "    y = df_new['Sales']\n",
    "    \n",
    "    lreg = LinearRegression()\n",
    "    lreg.fit(x, y)\n",
    "    \n",
    "    prediction = lreg.predict(Budget)\n",
    "    y_pred = lreg.predict(x)\n",
    "    \n",
    "    error = np.random.normal(0, error_pred(y, y_pred))\n",
    "    sales = prediction + error\n",
    "    sales_dist.append(float(sales))"
   ]
  },
  {
   "cell_type": "code",
   "execution_count": 6,
   "id": "3a7cf580",
   "metadata": {},
   "outputs": [],
   "source": [
    "# We sort the list containing sales predictions in ascending values\n",
    "sales_dist.sort()\n",
    "\n",
    "# find the 95% confidence interval using np.percentile function at 2.5% and 97.5%\n",
    "sales_CI = (np.percentile(sales_dist, 2.5), np.percentile(sales_dist, 97.5))"
   ]
  },
  {
   "cell_type": "code",
   "execution_count": 7,
   "id": "34059534",
   "metadata": {},
   "outputs": [],
   "source": [
    "def plot_simulation(simulation,confidence):\n",
    "    plt.hist(simulation, bins = 30, label = 'beta distribution', align = 'left', density = True,edgecolor='k')\n",
    "    plt.axvline(confidence[1], 0, 1, color = 'r', label = 'Right Interval')\n",
    "    plt.axvline(confidence[0], 0, 1, color = 'red', label = 'Left Interval')\n",
    "    plt.xlabel('Beta value')\n",
    "    plt.ylabel('Frequency')\n",
    "    plt.legend(frameon = False, loc = 'upper right')"
   ]
  },
  {
   "cell_type": "code",
   "execution_count": 8,
   "id": "54b582bb",
   "metadata": {},
   "outputs": [
    {
     "data": {
      "image/png": "[encoded data removed]",
      "text/plain": [
       "<Figure size 640x480 with 1 Axes>"
      ]
     },
     "metadata": {},
     "output_type": "display_data"
    }
   ],
   "source": [
    "plot_simulation(sales_dist,sales_CI)"
   ]
  },
  {
   "cell_type": "code",
   "execution_count": 9,
   "id": "31007e23",
   "metadata": {},
   "outputs": [
    {
     "name": "stdout",
     "output_type": "stream",
     "text": [
      "With a TV advertising budget of $1000,\n",
      "we can expect an increase of sales anywhere between 46.06 to 62.84 with a 95% confidence interval\n"
     ]
    }
   ],
   "source": [
    "print(f\"With a TV advertising budget of ${Budget['TV'][0]},\")\n",
    "print(f\"we can expect an increase of sales anywhere between {sales_CI[0]:0.2f} to {sales_CI[1]:.2f}\\\n",
    " with a 95% confidence interval\")"
   ]
  },
  {
   "cell_type": "code",
   "execution_count": null,
   "id": "456821e2",
   "metadata": {},
   "outputs": [],
   "source": []
  }
 ],
 "metadata": {
  "kernelspec": {
   "display_name": "Python 3 (ipykernel)",
   "language": "python",
   "name": "python3"
  },
  "language_info": {
   "codemirror_mode": {
    "name": "ipython",
    "version": 3
   },
   "file_extension": ".py",
   "mimetype": "text/x-python",
   "name": "python",
   "nbconvert_exporter": "python",
   "pygments_lexer": "ipython3",
   "version": "3.11.5"
  }
 },
 "nbformat": 4,
 "nbformat_minor": 5
}
